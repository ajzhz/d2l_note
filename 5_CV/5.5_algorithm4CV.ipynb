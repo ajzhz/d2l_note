{
 "cells": [
  {
   "cell_type": "markdown",
   "id": "b56d6c28",
   "metadata": {},
   "source": [
    "# 目标检测常用算法\n"
   ]
  },
  {
   "cell_type": "markdown",
   "id": "91596a6a",
   "metadata": {},
   "source": [
    "## 区域卷积神经网络\n",
    "<img src='./image/R-CNN.jpg' alt='R-CNN' width=400><br>\n",
    "* 启发式搜索算法来选择锚框\n",
    "* 使用预训练模型来对每个锚框抽取特征\n",
    "* 训练一个SVM雷队类别分类\n",
    "* 训练一个线性回归模型来预测边缘框偏移\n",
    "\n",
    "RoI池化层\n",
    "* 给定一个锚框，均匀分割成n*m块，输出每块里最大值\n",
    "* 不管框多大都输出n*m个值\n",
    "\n",
    "mask R-CNN 需要像素级别的标记\n",
    "\n"
   ]
  },
  {
   "cell_type": "markdown",
   "id": "2d02ff0d",
   "metadata": {
    "vscode": {
     "languageId": "plaintext"
    }
   },
   "source": [
    "## SSD 单发多框检测\n",
    "生成锚框同5.4<br>\n",
    "* 一个基础网络来抽取特征。然后多个卷积层块来减半高宽\n",
    "* 每段都在生成锚框\n",
    "  * 底部段来那你和小物体，顶部来拟合大物体\n",
    "* 每个锚框预测类别和边缘框 \n",
    "<img src='./image/SSD.jpg' alt='SSD' width=400><br>"
   ]
  },
  {
   "cell_type": "markdown",
   "id": "06d14fba",
   "metadata": {},
   "source": [
    "## yolo\n",
    "快<br>\n",
    "* SSD中锚框大量重叠，因此浪费了很多计算\n",
    "* YOLO将图片均匀分成S*S个锚框\n",
    "* 每个锚框预测B个边缘框\n",
    "\n",
    "<img src='./image/yoloAnchor.jpg' alt='anchor' width=300><br>\n",
    "\n",
    "\n"
   ]
  }
 ],
 "metadata": {
  "language_info": {
   "name": "python"
  }
 },
 "nbformat": 4,
 "nbformat_minor": 5
}
