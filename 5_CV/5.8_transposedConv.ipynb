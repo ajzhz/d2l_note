{
 "cells": [
  {
   "cell_type": "markdown",
   "id": "bd37c7c7",
   "metadata": {},
   "source": [
    "# 转置卷积\n",
    "* 卷积不会增大输入高和宽，通常要么不变要么减半\n",
    "* 转置卷积则可以用来增大输入高宽\n",
    "\n",
    "语义分割需要做像素级别的输出，卷积会压缩像素，因此需要转置卷积增大输入高宽<br>\n",
    "<img src='./image/transposedConv.jpg' alt='transposedConv' width=400><br>\n",
    "\n",
    "为什么称之为转置<br>\n",
    "将卷积变换为矩阵乘法是一种优化方式\n",
    "* 对于卷积$Y = X \\star W$\n",
    "  * 可以对W构造一个V使得卷积等价于矩阵乘法$Y' = VX'$ 假设形状为$n \\ n*m \\ m$\n",
    "  * 这里$Y', X'$是X,Y对应的向量版本\n",
    "* 转置卷积则等价于$Y' = V^TX'$ 则这里的形状就是$m \\ m*n \\ n$\n",
    "* 如果卷积将输入从(h, w)变成了(h', w')\n",
    "  * 同样的超参数的转置卷积则从(h', w')变为(h, w)  \n",
    "  \n",
    "卷积做下采样，转置卷积做上采样<br>\n",
    "重新排列输入和核<br>\n",
    "<img src='./image/transConv1.jpg' alt='transConv1' width=400><br>\n",
    "<img src='./image/transConv2.jpg' alt='transConv2' width=400><br>\n",
    "<img src='./image/transConv3.jpg' alt='transConv3' width=400><br>"
   ]
  },
  {
   "cell_type": "markdown",
   "id": "5145f259",
   "metadata": {},
   "source": [
    "实现基本的转置卷积运算"
   ]
  },
  {
   "cell_type": "code",
   "execution_count": null,
   "id": "fe336bfc",
   "metadata": {},
   "outputs": [],
   "source": [
    "import torch\n",
    "from torch import nn\n",
    "from d2l import torch as d2l\n",
    "\n",
    "def trans_conv(X, K): # padding = 0 stride = 1\n",
    "    h, w = K.shape\n",
    "    Y = torch.zeros((X.shape[0] + h - 1, X.shape[1] + w -1))\n",
    "    for i in range(X.shape[0]):\n",
    "        for j in range(X.shape[1]):\n",
    "            Y[i:i+h, j:j+2] += X[i, j] * K\n",
    "    return Y\n",
    "\n"
   ]
  },
  {
   "cell_type": "code",
   "execution_count": 4,
   "id": "d1af4c5e",
   "metadata": {},
   "outputs": [
    {
     "data": {
      "text/plain": [
       "tensor([[ 0.,  0.,  1.],\n",
       "        [ 0.,  4.,  6.],\n",
       "        [ 4., 12.,  9.]])"
      ]
     },
     "execution_count": 4,
     "metadata": {},
     "output_type": "execute_result"
    }
   ],
   "source": [
    "X = torch.tensor([[0.0, 1.0], [2.0, 3.0]])\n",
    "K = torch.tensor([[0.0, 1.0], [2.0, 3.0]])\n",
    "trans_conv(X, K)"
   ]
  },
  {
   "cell_type": "markdown",
   "id": "c7f010b1",
   "metadata": {},
   "source": [
    "torch API\n"
   ]
  },
  {
   "cell_type": "code",
   "execution_count": 5,
   "id": "8b9e9f16",
   "metadata": {},
   "outputs": [
    {
     "data": {
      "text/plain": [
       "tensor([[[[ 0.,  0.,  1.],\n",
       "          [ 0.,  4.,  6.],\n",
       "          [ 4., 12.,  9.]]]], grad_fn=<ConvolutionBackward0>)"
      ]
     },
     "execution_count": 5,
     "metadata": {},
     "output_type": "execute_result"
    }
   ],
   "source": [
    "X, K = X.reshape(1, 1, 2, 2), K.reshape(1, 1, 2, 2)\n",
    "tconv = nn.ConvTranspose2d(1, 1, kernel_size=2, bias=False)\n",
    "tconv.weight.data = K\n",
    "tconv(X)"
   ]
  },
  {
   "cell_type": "markdown",
   "id": "9ffd8c0b",
   "metadata": {},
   "source": [
    "填充步幅和多通道"
   ]
  },
  {
   "cell_type": "code",
   "execution_count": 8,
   "id": "3b51e796",
   "metadata": {},
   "outputs": [
    {
     "data": {
      "text/plain": [
       "tensor([[[[4.]]]], grad_fn=<ConvolutionBackward0>)"
      ]
     },
     "execution_count": 8,
     "metadata": {},
     "output_type": "execute_result"
    }
   ],
   "source": [
    "tconv = nn.ConvTranspose2d(1, 1, kernel_size=2, padding=1, bias=False)\n",
    "tconv.weight.data = K # 填充回使变小\n",
    "tconv(X) # 等价于对于输出加上1的填充后，进行卷积得到的输入矩阵"
   ]
  },
  {
   "cell_type": "code",
   "execution_count": null,
   "id": "9f7b832e",
   "metadata": {},
   "outputs": [
    {
     "data": {
      "text/plain": [
       "tensor([[[[0., 0., 0., 1.],\n",
       "          [0., 0., 2., 3.],\n",
       "          [0., 2., 0., 3.],\n",
       "          [4., 6., 6., 9.]]]], grad_fn=<ConvolutionBackward0>)"
      ]
     },
     "execution_count": 9,
     "metadata": {},
     "output_type": "execute_result"
    }
   ],
   "source": [
    "tconv = nn.ConvTranspose2d(1, 1, kernel_size=2, stride=2, bias=False)\n",
    "tconv.weight.data = K\n",
    "tconv(X) # 同样的逆向"
   ]
  },
  {
   "cell_type": "code",
   "execution_count": 11,
   "id": "6f743636",
   "metadata": {},
   "outputs": [
    {
     "data": {
      "text/plain": [
       "True"
      ]
     },
     "execution_count": 11,
     "metadata": {},
     "output_type": "execute_result"
    }
   ],
   "source": [
    "X = torch.rand(size=(1, 10, 16, 16))\n",
    "conv = nn.Conv2d(10, 20, kernel_size=5, padding=2, stride=3)\n",
    "tconv = nn.ConvTranspose2d(20, 10, kernel_size=5, padding=2, stride=3)\n",
    "tconv(conv(X)).shape == X.shape # 卷积的逆运算"
   ]
  },
  {
   "cell_type": "markdown",
   "id": "1d02332a",
   "metadata": {},
   "source": [
    "与矩阵变换的联系"
   ]
  },
  {
   "cell_type": "code",
   "execution_count": 13,
   "id": "c3a1ce9f",
   "metadata": {},
   "outputs": [
    {
     "data": {
      "text/plain": [
       "(tensor([[27., 37.],\n",
       "         [57., 67.]]),\n",
       " tensor([[0., 1., 2.],\n",
       "         [3., 4., 5.],\n",
       "         [6., 7., 8.]]),\n",
       " tensor([[1., 2.],\n",
       "         [3., 4.]]))"
      ]
     },
     "execution_count": 13,
     "metadata": {},
     "output_type": "execute_result"
    }
   ],
   "source": [
    "X = torch.arange(9.0).reshape(3, 3)\n",
    "K = torch.tensor([[1.0, 2.0], [3.0, 4.0]])\n",
    "Y = d2l.corr2d(X, K)\n",
    "Y, X, K"
   ]
  },
  {
   "cell_type": "code",
   "execution_count": null,
   "id": "5912ca94",
   "metadata": {},
   "outputs": [
    {
     "name": "stdout",
     "output_type": "stream",
     "text": [
      "tensor([1., 2., 0., 3., 4.])\n"
     ]
    },
    {
     "data": {
      "text/plain": [
       "tensor([[1., 2., 0., 3., 4., 0., 0., 0., 0.],\n",
       "        [0., 1., 2., 0., 3., 4., 0., 0., 0.],\n",
       "        [0., 0., 0., 1., 2., 0., 3., 4., 0.],\n",
       "        [0., 0., 0., 0., 1., 2., 0., 3., 4.]])"
      ]
     },
     "execution_count": 15,
     "metadata": {},
     "output_type": "execute_result"
    }
   ],
   "source": [
    "def kernel2matrix(K): # k->v\n",
    "    k, W = torch.zeros(5), torch.zeros((4, 9))\n",
    "    k[:2], k[3:5] = K[0, :], K[1, :]\n",
    "    print(k)\n",
    "    W[0, :5], W[1, 1:6], W[2, 3:8], W[3, 4:] = k, k, k, k\n",
    "    return W\n",
    "\n",
    "W = kernel2matrix(K) # x 3*3->9  y 2*2->4\n",
    "W"
   ]
  },
  {
   "cell_type": "code",
   "execution_count": 17,
   "id": "07376574",
   "metadata": {},
   "outputs": [
    {
     "data": {
      "text/plain": [
       "tensor([[True, True],\n",
       "        [True, True]])"
      ]
     },
     "execution_count": 17,
     "metadata": {},
     "output_type": "execute_result"
    }
   ],
   "source": [
    "Y == torch.matmul(W, X.reshape(-1)).reshape(2, 2)\n",
    "# 验证是否相同"
   ]
  },
  {
   "cell_type": "code",
   "execution_count": 18,
   "id": "64b8171d",
   "metadata": {},
   "outputs": [
    {
     "data": {
      "text/plain": [
       "tensor([[True, True, True],\n",
       "        [True, True, True],\n",
       "        [True, True, True]])"
      ]
     },
     "execution_count": 18,
     "metadata": {},
     "output_type": "execute_result"
    }
   ],
   "source": [
    "Z = trans_conv(Y, K)\n",
    "Z == torch.matmul(W.T, Y.reshape(-1)).reshape(3, 3)"
   ]
  },
  {
   "cell_type": "code",
   "execution_count": 40,
   "id": "ee1eea80",
   "metadata": {},
   "outputs": [
    {
     "data": {
      "text/plain": [
       "(tensor([[[[0., 1.],\n",
       "           [2., 3.]]]]),\n",
       " tensor([[[[1., 1.],\n",
       "           [1., 1.]]]]))"
      ]
     },
     "execution_count": 40,
     "metadata": {},
     "output_type": "execute_result"
    }
   ],
   "source": [
    "# 填充\n",
    "X = torch.arange(4, dtype=torch.float32).reshape(1, 1, 2, 2)\n",
    "W = torch.ones(4).reshape(1, 1, 2, 2)\n",
    "X, W"
   ]
  },
  {
   "cell_type": "code",
   "execution_count": null,
   "id": "031c382d",
   "metadata": {},
   "outputs": [
    {
     "data": {
      "text/plain": [
       "(tensor([[[[0., 1., 1.],\n",
       "           [2., 6., 4.],\n",
       "           [2., 5., 3.]]]], grad_fn=<ConvolutionBackward0>),\n",
       " tensor([[[[6.]]]], grad_fn=<ConvolutionBackward0>),\n",
       " tensor(2.6667, grad_fn=<DivBackward0>))"
      ]
     },
     "execution_count": 39,
     "metadata": {},
     "output_type": "execute_result"
    }
   ],
   "source": [
    "a = nn.ConvTranspose2d(1, 1, kernel_size=2, padding=0, bias=False)\n",
    "b = nn.ConvTranspose2d(1, 1, kernel_size=2, padding=1, bias=False)\n",
    "a.weight.data = W\n",
    "b.weight.data = W\n",
    "Y1 = a(X)\n",
    "Y2 = b(X)\n",
    "Y1, Y2 # 其实就是删除了外围的元素"
   ]
  },
  {
   "cell_type": "markdown",
   "id": "29be6ec8",
   "metadata": {},
   "source": [
    "形状换算<br>\n",
    "输入高宽为n，核k，填充p，步幅s<br>\n",
    "* 转置卷积：n' = sn + k - 2p - s\n",
    "* 卷积：n' = (n - k - 2p + s)/s\n",
    "* 如果让高宽成倍增加那么k = 2p + s"
   ]
  }
 ],
 "metadata": {
  "kernelspec": {
   "display_name": "env_for_d2l",
   "language": "python",
   "name": "python3"
  },
  "language_info": {
   "codemirror_mode": {
    "name": "ipython",
    "version": 3
   },
   "file_extension": ".py",
   "mimetype": "text/x-python",
   "name": "python",
   "nbconvert_exporter": "python",
   "pygments_lexer": "ipython3",
   "version": "3.8.20"
  }
 },
 "nbformat": 4,
 "nbformat_minor": 5
}
