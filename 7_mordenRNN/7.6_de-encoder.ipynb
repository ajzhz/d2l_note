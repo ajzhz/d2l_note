{
 "cells": [
  {
   "cell_type": "markdown",
   "id": "89255dab",
   "metadata": {},
   "source": [
    "# 编解码器\n",
    "通过CNN理解<br>\n",
    "<img src='./image/CNNen-de.jpg' alt='CNNen-de' width=400><br>\n",
    "\n",
    "* 编码器：将输入编程成中间表达式（特征）\n",
    "* 解码器：将中间表示解码成输出\n",
    "\n",
    "通过RNN理解<br>\n",
    "<img src='./image/RNNen-de.jpg' alt='RNNen-de' width=400><br>\n",
    "\n",
    "* 编码器：将文本表示成向量\n",
    "* 解码器：向量表示成输出\n",
    "\n",
    "编码器解码器架构<br>\n",
    "<img src='./image/en-de.jpg' alt='en-de' width=400><br>\n"
   ]
  },
  {
   "cell_type": "markdown",
   "id": "9b170e81",
   "metadata": {},
   "source": [
    "## 编解码器架构\n",
    "注意中间代码并未填充<br>\n",
    "编码器"
   ]
  },
  {
   "cell_type": "code",
   "execution_count": 1,
   "id": "dd323ba1",
   "metadata": {},
   "outputs": [],
   "source": [
    "from torch import nn\n",
    "\n",
    "class Encoder(nn.Module):\n",
    "    \"\"\"编码器-解码器结构的基本编码器接口。\"\"\"\n",
    "    def __init__(self, **kwargs):\n",
    "        super(Encoder, self).__init__(**kwargs)\n",
    "\n",
    "    def forward(self, X, *args):\n",
    "        raise NotImplementedError"
   ]
  },
  {
   "cell_type": "markdown",
   "id": "4b412a24",
   "metadata": {},
   "source": [
    "解码器"
   ]
  },
  {
   "cell_type": "code",
   "execution_count": null,
   "id": "021d2327",
   "metadata": {},
   "outputs": [],
   "source": [
    "class Decoder(nn.Module):\n",
    "    \"\"\"编码器-解码器结构的基本解码器接口。\"\"\"\n",
    "    def __init__(self, **kwargs):\n",
    "        super(Decoder, self).__init__(**kwargs)\n",
    "\n",
    "    def init_state(self, enc_outputs, *args):\n",
    "        raise NotImplementedError\n",
    "\n",
    "    def forward(self, X, state):\n",
    "        raise NotImplementedError"
   ]
  },
  {
   "cell_type": "markdown",
   "id": "234bdf46",
   "metadata": {},
   "source": [
    "合成编解码器"
   ]
  },
  {
   "cell_type": "code",
   "execution_count": 2,
   "id": "48db23c5",
   "metadata": {},
   "outputs": [],
   "source": [
    "class EncoderDecoder(nn.Module):\n",
    "    \"\"\"编码器-解码器结构的基类。\"\"\"\n",
    "    def __init__(self, encoder, decoder, **kwargs):\n",
    "        super(EncoderDecoder, self).__init__(**kwargs)\n",
    "        self.encoder = encoder\n",
    "        self.decoder = decoder\n",
    "\n",
    "    def forward(self, enc_X, dec_X, *args):\n",
    "        enc_outputs = self.encoder(enc_X, *args)\n",
    "        dec_state = self.decoder.init_state(enc_outputs, *args)\n",
    "        return self.decoder(dec_X, dec_state) # 将编码器的输出和解码器自己的输入送入网络"
   ]
  }
 ],
 "metadata": {
  "kernelspec": {
   "display_name": "Python 3",
   "language": "python",
   "name": "python3"
  },
  "language_info": {
   "codemirror_mode": {
    "name": "ipython",
    "version": 3
   },
   "file_extension": ".py",
   "mimetype": "text/x-python",
   "name": "python",
   "nbconvert_exporter": "python",
   "pygments_lexer": "ipython3",
   "version": "3.8.20"
  }
 },
 "nbformat": 4,
 "nbformat_minor": 5
}
